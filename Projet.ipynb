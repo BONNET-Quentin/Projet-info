{
 "cells": [
  {
   "cell_type": "markdown",
   "id": "68d5a571-7ac2-4ccb-8eeb-ca27ae398e70",
   "metadata": {},
   "source": [
    "# Projet : analyse de data"
   ]
  },
  {
   "cell_type": "markdown",
   "id": "f1132993",
   "metadata": {},
   "source": [
    "### L'économie française peut-elle survivre sans le tourisme ?"
   ]
  },
  {
   "cell_type": "markdown",
   "id": "f223bf6c-4dfb-4b17-bd98-84454153e66b",
   "metadata": {},
   "source": [
    "Quentin BONNET\n",
    "\n",
    "Nathan BOUTHORS\n",
    "\n",
    "Eliott FAYOLLE\n",
    "\n",
    "Baptiste MICHAUD\n",
    "\n",
    "Yvon PEREZ"
   ]
  },
  {
   "cell_type": "code",
   "execution_count": 1,
   "id": "b6625924-dca3-4309-b5eb-4b9d41b27861",
   "metadata": {},
   "outputs": [],
   "source": [
    "import pandas as pd\n",
    "import numpy as np\n",
    "import matplotlib.pyplot as plt\n",
    "import seaborn as sns"
   ]
  },
  {
   "cell_type": "code",
   "execution_count": null,
   "id": "83f190da-3ce7-4558-8d2b-e9c337def65b",
   "metadata": {},
   "outputs": [
    {
     "ename": "",
     "evalue": "",
     "output_type": "error",
     "traceback": [
      "\u001b[1;31mRunning cells with 'base (Python 3.9.13)' requires the ipykernel package.\n",
      "\u001b[1;31mRun the following command to install 'ipykernel' into the Python environment. \n",
      "\u001b[1;31mCommand: 'conda install -n base ipykernel --update-deps --force-reinstall'"
     ]
    }
   ],
   "source": [
    "df = pd.read_csv('stats_tourisme.csv')\n",
    "df.head()"
   ]
  },
  {
   "cell_type": "markdown",
   "id": "550d4066",
   "metadata": {},
   "source": [
    "Notre étude se base sur les données récupérées sur la page https://ourworldindata.org/tourism.\n",
    "Nous nous intéressons à la place du tourisme dans l'économie et la culture de 59 pays des 5 continents. Nous avons privilégié les pays les plus peuplés qui comptaient suffisamment de données disponibles.\n",
    "\n",
    "La liste des pays :"
   ]
  },
  {
   "cell_type": "code",
   "execution_count": null,
   "id": "56631991",
   "metadata": {},
   "outputs": [
    {
     "data": {
      "text/html": [
       "<div>\n",
       "<style scoped>\n",
       "    .dataframe tbody tr th:only-of-type {\n",
       "        vertical-align: middle;\n",
       "    }\n",
       "\n",
       "    .dataframe tbody tr th {\n",
       "        vertical-align: top;\n",
       "    }\n",
       "\n",
       "    .dataframe thead th {\n",
       "        text-align: right;\n",
       "    }\n",
       "</style>\n",
       "<table border=\"1\" class=\"dataframe\">\n",
       "  <thead>\n",
       "    <tr style=\"text-align: right;\">\n",
       "      <th></th>\n",
       "      <th>Touristes annuels</th>\n",
       "    </tr>\n",
       "    <tr>\n",
       "      <th>Pays</th>\n",
       "      <th></th>\n",
       "    </tr>\n",
       "  </thead>\n",
       "  <tbody>\n",
       "    <tr>\n",
       "      <th>Albania</th>\n",
       "      <td>6128000.0</td>\n",
       "    </tr>\n",
       "    <tr>\n",
       "      <th>Austria</th>\n",
       "      <td>31884000.0</td>\n",
       "    </tr>\n",
       "    <tr>\n",
       "      <th>Belgium</th>\n",
       "      <td>9343000.0</td>\n",
       "    </tr>\n",
       "    <tr>\n",
       "      <th>Bulgaria</th>\n",
       "      <td>7775000.0</td>\n",
       "    </tr>\n",
       "    <tr>\n",
       "      <th>CapeVerde</th>\n",
       "      <td>758000.0</td>\n",
       "    </tr>\n",
       "  </tbody>\n",
       "</table>\n",
       "</div>"
      ],
      "text/plain": [
       "           Touristes annuels\n",
       "Pays                        \n",
       "Albania            6128000.0\n",
       "Austria           31884000.0\n",
       "Belgium            9343000.0\n",
       "Bulgaria           7775000.0\n",
       "CapeVerde           758000.0"
      ]
     },
     "execution_count": 8,
     "metadata": {},
     "output_type": "execute_result"
    }
   ],
   "source": [
    "df['Pays']"
   ]
  },
  {
   "cell_type": "markdown",
   "id": "40a02a0e",
   "metadata": {},
   "source": [
    "### L'importance du tourisme pour les différents pays du monde"
   ]
  },
  {
   "cell_type": "markdown",
   "id": "b323e96b",
   "metadata": {},
   "source": [
    "On va regarder si tous les pays ont des caractéristiques similaires vis-à-vis du tourisme.\n",
    "\n",
    "On trace pour chaque pays le nombre de touristes qui sont venus au cours de l'année 2019 en fonction du nombre d'habitants du pays. L'axe des abscisses (correspondant à la population) est en échelle logarithmique pour améliorer la visibilité."
   ]
  },
  {
   "cell_type": "code",
   "execution_count": null,
   "id": "f764cde8",
   "metadata": {},
   "outputs": [
    {
     "data": {
      "image/png": "[encoded data removed]",
      "text/plain": [
       "<Figure size 500x500 with 1 Axes>"
      ]
     },
     "metadata": {},
     "output_type": "display_data"
    }
   ],
   "source": [
    "pays_par_touristes = df.loc[df['Touristes annuels'].notna(), ['Pays', 'Touristes annuels', 'Population']]\n",
    "\n",
    "graphique = sns.relplot(data = pays_par_touristes, x = 'Population', y = 'Touristes annuels', kind = 'scatter')\n",
    "graphique.set(xscale=\"log\", xlabel = \"Population\", ylabel = \"Nombre de touristes en 2019\", title = \"Touristes en fonction de la population par pays\")\n",
    "\n",
    "def label_point(x, y, val, ax):\n",
    "    a = pd.concat({'x': x, 'y': y, 'val': val}, axis=1)\n",
    "    for i, point in a.iterrows():\n",
    "        ax.text(point['x']+.02, point['y'], str(point['val']))\n",
    "\n",
    "label_point(pays_par_touristes['Population'],pays_par_touristes['Touristes annuels'], pays_par_touristes['Pays'], plt.gca())\n"
   ]
  },
  {
   "cell_type": "markdown",
   "id": "d09108d4",
   "metadata": {},
   "source": [
    "On constate que tous les pays ne se valent pas : notamment la France, l'Espagne, l'Italie et les Etats-Unis accueillent beaucoup d'étrangers par rapport à leur nombre d'habitants. Il semblerait donc que le tourisme soit un domaine important pour ces pays."
   ]
  },
  {
   "cell_type": "markdown",
   "id": "e92cf3e0",
   "metadata": {},
   "source": [
    "### Importance économique du tourisme\n",
    "\n",
    "Comparaison des sommes investies, du nombre d'employés"
   ]
  },
  {
   "cell_type": "markdown",
   "id": "fff61a35",
   "metadata": {},
   "source": [
    "### Des différences culturelles ?\n",
    "\n",
    "Comparaison des déplacements à l'étranger par rapport aux déplacements internes au pays (ainsi que les séjours dans les hôtels)"
   ]
  },
  {
   "cell_type": "code",
   "execution_count": null,
   "id": "48d310f6-9083-4649-95c8-c725caef8164",
   "metadata": {},
   "outputs": [],
   "source": []
  }
 ],
 "metadata": {
  "kernelspec": {
   "display_name": "Python 3 (ipykernel)",
   "language": "python",
   "name": "python3"
  },
  "language_info": {
   "codemirror_mode": {
    "name": "ipython",
    "version": 3
   },
   "file_extension": ".py",
   "mimetype": "text/x-python",
   "name": "python",
   "nbconvert_exporter": "python",
   "pygments_lexer": "ipython3",
   "version": "3.12.4"
  }
 },
 "nbformat": 4,
 "nbformat_minor": 5
}
