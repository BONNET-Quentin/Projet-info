{
 "cells": [
  {
   "cell_type": "markdown",
   "id": "68d5a571-7ac2-4ccb-8eeb-ca27ae398e70",
   "metadata": {},
   "source": [
    "# Projet : analyse de data"
   ]
  },
  {
   "cell_type": "markdown",
   "id": "f223bf6c-4dfb-4b17-bd98-84454153e66b",
   "metadata": {},
   "source": [
    "Quentin BONNET\n",
    "\n",
    "Nathan BOUTHORS\n",
    "\n",
    "Eliott FAYOLLE\n",
    "\n",
    "Baptiste MICHAUD"
   ]
  },
  {
   "cell_type": "code",
   "execution_count": 4,
   "id": "b6625924-dca3-4309-b5eb-4b9d41b27861",
   "metadata": {},
   "outputs": [],
   "source": [
    "import pandas as pd\n",
    "import numpy as np\n",
    "import matplotlib.pyplot as plt\n",
    "import seaborn as sns"
   ]
  },
  {
   "cell_type": "code",
   "execution_count": null,
   "id": "83f190da-3ce7-4558-8d2b-e9c337def65b",
   "metadata": {},
   "outputs": [],
   "source": []
  }
 ],
 "metadata": {
  "kernelspec": {
   "display_name": "Python 3 (ipykernel)",
   "language": "python",
   "name": "python3"
  },
  "language_info": {
   "codemirror_mode": {
    "name": "ipython",
    "version": 3
   },
   "file_extension": ".py",
   "mimetype": "text/x-python",
   "name": "python",
   "nbconvert_exporter": "python",
   "pygments_lexer": "ipython3",
   "version": "3.12.4"
  }
 },
 "nbformat": 4,
 "nbformat_minor": 5
}
