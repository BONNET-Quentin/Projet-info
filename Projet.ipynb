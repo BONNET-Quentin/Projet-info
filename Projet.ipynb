{
 "cells": [
  {
   "cell_type": "markdown",
   "id": "68d5a571-7ac2-4ccb-8eeb-ca27ae398e70",
   "metadata": {},
   "source": [
    "# Projet : analyse de data"
   ]
  },
  {
   "cell_type": "markdown",
   "id": "f1132993",
   "metadata": {},
   "source": [
    "### L'économie française peut-elle survivre sans le tourisme ?"
   ]
  },
  {
   "cell_type": "markdown",
   "id": "f223bf6c-4dfb-4b17-bd98-84454153e66b",
   "metadata": {},
   "source": [
    "Quentin BONNET\n",
    "\n",
    "Nathan BOUTHORS\n",
    "\n",
    "Eliott FAYOLLE\n",
    "\n",
    "Baptiste MICHAUD\n",
    "\n",
    "Yvon PEREZ"
   ]
  },
  {
   "cell_type": "code",
   "execution_count": null,
   "id": "b6625924-dca3-4309-b5eb-4b9d41b27861",
   "metadata": {},
   "outputs": [
    {
     "ename": "",
     "evalue": "",
     "output_type": "error",
     "traceback": [
      "\u001b[1;31mRunning cells with 'base (Python 3.9.13)' requires the ipykernel package.\n",
      "\u001b[1;31mRun the following command to install 'ipykernel' into the Python environment. \n",
      "\u001b[1;31mCommand: 'conda install -n base ipykernel --update-deps --force-reinstall'"
     ]
    }
   ],
   "source": [
    "import pandas as pd\n",
    "import numpy as np\n",
    "import matplotlib.pyplot as plt\n",
    "import seaborn as sns"
   ]
  },
  {
   "cell_type": "code",
   "execution_count": null,
   "id": "83f190da-3ce7-4558-8d2b-e9c337def65b",
   "metadata": {},
   "outputs": [],
   "source": [
    "df = pd.read_csv('stats_tourisme.csv', index_col=0)\n",
    "df.head(3)"
   ]
  },
  {
   "cell_type": "markdown",
   "id": "550d4066",
   "metadata": {},
   "source": [
    "Notre étude se base sur les données récupérées sur la page https://ourworldindata.org/tourism.\n",
    "Nous nous intéressons à la place du tourisme dans l'économie et la culture de 59 pays des 5 continents. Nous avons privilégié les pays les plus peuplés qui comptaient suffisamment de données disponibles.\n",
    "\n",
    "La liste des pays :"
   ]
  },
  {
   "cell_type": "code",
   "execution_count": null,
   "id": "56631991",
   "metadata": {},
   "outputs": [],
   "source": [
    "df.Pays"
   ]
  },
  {
   "cell_type": "markdown",
   "id": "40a02a0e",
   "metadata": {},
   "source": [
    "### L'importance du tourisme pour les différents pays du monde"
   ]
  },
  {
   "cell_type": "code",
   "execution_count": null,
   "id": "f764cde8",
   "metadata": {},
   "outputs": [],
   "source": [
    "pays_par_touristes = df.loc[df['Touristes annuels'].notna(),['Pays','Touristes annuels']]\n",
    "\n",
    "sns.relplot(data=pays_par_touristes, x='Population', y='Touristes annuels');"
   ]
  }
 ],
 "metadata": {
  "kernelspec": {
   "display_name": "base",
   "language": "python",
   "name": "python3"
  },
  "language_info": {
   "codemirror_mode": {
    "name": "ipython",
    "version": 3
   },
   "file_extension": ".py",
   "mimetype": "text/x-python",
   "name": "python",
   "nbconvert_exporter": "python",
   "pygments_lexer": "ipython3",
   "version": "3.9.13"
  }
 },
 "nbformat": 4,
 "nbformat_minor": 5
}
