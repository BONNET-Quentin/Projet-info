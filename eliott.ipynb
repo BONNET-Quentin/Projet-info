{
 "cells": [
  {
   "cell_type": "code",
   "execution_count": null,
   "metadata": {},
   "outputs": [
    {
     "ename": "",
     "evalue": "",
     "output_type": "error",
     "traceback": [
      "\u001b[1;31mRunning cells with 'base (Python 3.9.13)' requires the ipykernel package.\n",
      "\u001b[1;31mRun the following command to install 'ipykernel' into the Python environment. \n",
      "\u001b[1;31mCommand: 'conda install -n base ipykernel --update-deps --force-reinstall'"
     ]
    }
   ],
   "source": [
    "import pandas as pd\n",
    "import numpy as np\n",
    "import matplotlib.pyplot as plt\n",
    "import seaborn as sns"
   ]
  },
  {
   "cell_type": "code",
   "execution_count": null,
   "metadata": {},
   "outputs": [],
   "source": [
    "df = pd.read_csv('stats_tourisme.csv')\n",
    "df.head()\n",
    "sns.set_style('darkgrid')"
   ]
  },
  {
   "cell_type": "markdown",
   "metadata": {},
   "source": [
    "La fonction suivante va permettre d'ajouter les noms de chaque pays à côté des points correspondants sur les graphes que nous allons tracer :"
   ]
  },
  {
   "cell_type": "code",
   "execution_count": null,
   "metadata": {},
   "outputs": [],
   "source": [
    "def label_point(x, y, val, ax):\n",
    "    a = pd.concat({'x': x, 'y': y, 'val': val}, axis=1)\n",
    "    for i, point in a.iterrows():\n",
    "        ax.text(point['x']+.02, point['y'], str(point['val']))"
   ]
  },
  {
   "cell_type": "markdown",
   "metadata": {},
   "source": [
    "## Disponibilité du voyage aérien\n",
    "\n",
    "Le tourisme international s'est beaucoup développé grâce à la démocratisation de l'avion. La plupart des touristes utilisent ce moyen de transport pour traverser les frontières, qu'elles soient terrestres ou marines.\n",
    "\n",
    "On va commencer par regarder s'il y a un lien entre le nombre d'habitants et le nombre de voyageurs aériens pour tous les pays."
   ]
  },
  {
   "cell_type": "code",
   "execution_count": null,
   "metadata": {},
   "outputs": [],
   "source": [
    "masque = (df['Touristes annuels'].notna()) & (df['Nombre de passagers aériens'].notna())\n",
    "touristes_par_avion = df.loc[masque, ['Pays', 'Touristes annuels', 'Nombre de passagers aériens', 'PIB / habitant']]\n",
    "graphique = sns.relplot(data=touristes_par_avion, x='Population', y='Nombre de passagers aériens')\n",
    "graphique.set(xscale = 'log', title = \"Voyageurs aériens en fonction de la population\");\n",
    "\n",
    "label_point(touristes_par_avion['Population'],touristes_par_avion['Nombre de passagers aériens'], touristes_par_avion['Pays'], plt.gca())"
   ]
  },
  {
   "cell_type": "markdown",
   "metadata": {},
   "source": [
    "Cela semble être le cas puisqu'on obtient une courbe qui ressemble à une exponentielle, traduisant une relation linéaire entre nos deux paramètres.\n",
    "\n",
    "L'avion est un moyen de transport qui nécessite d'importantes infrastructures. On peut donc imaginer que ce soit en priorité les pays les plus riches qui utilisent l'avion."
   ]
  },
  {
   "cell_type": "code",
   "execution_count": null,
   "metadata": {},
   "outputs": [],
   "source": [
    "\n",
    "touristes_par_avion['Voyageurs aériens / population'] = touristes_par_avion['Nombre de passagers aériens'] / touristes_par_avion['Population']\n",
    "\n",
    "#On élimine les pays avec trop de voyageurs aériens pour pouvoir visualiser correctement les autres\n",
    "exclusion_pays = touristes_par_avion[(touristes_par_avion['Pays'] != 'Ireland') & (touristes_par_avion['Pays'] != 'Luxembourg') & (touristes_par_avion['Pays'] != 'Cyprus') & (touristes_par_avion['Pays'] != 'Iceland')]\n",
    "\n",
    "graphique = sns.regplot(data=exclusion_pays, x='PIB / habitant', y='Voyageurs aériens / population')\n",
    "graphique.set(title = \"Voyageurs aériens en fonction du PIB et la population\");\n",
    "\n",
    "label_point(touristes_par_avion['PIB / habitant'],touristes_par_avion['Voyageurs aériens / population'], exclusion_islande['Pays'], plt.gca())\n"
   ]
  },
  {
   "cell_type": "markdown",
   "metadata": {},
   "source": [
    "Lorsque le PIB par habitant d'un pays augmente, les habitants ont tendance à plus souvent prendre l'avion ;  et ce quel que soit le continent. L'avion est donc une caractéristique des pays les plus riches, mais est-ce que cela se reflète sur le tourisme ?\n",
    "\n",
    "Plus d'avions vers un pays devrait vouloir dire plus de touristes ?"
   ]
  },
  {
   "cell_type": "code",
   "execution_count": null,
   "metadata": {},
   "outputs": [],
   "source": [
    "touristes_par_avion['Voyageurs aériens / nombre de touristes'] = touristes_par_avion['Nombre de passagers aériens'] / touristes_par_avion['Touristes annuels']\n",
    "\n",
    "graphique = sns.lmplot(data=touristes_par_avion, x='PIB / habitant', y='Voyageurs aériens / nombre de touristes')\n",
    "graphique.set(title = \"Voyageurs aériens en fonction du PIB et du nombre de touristes\");\n",
    "\n",
    "label_point(touristes_par_avion['PIB / habitant'],touristes_par_avion['Voyageurs aériens / nombre de touristes'], touristes_par_avion['Pays'], plt.gca())\n"
   ]
  },
  {
   "cell_type": "markdown",
   "metadata": {},
   "source": [
    "Ici encore on obtient une fonction croissante du PIB par habitant.\n",
    "\n",
    "Néanmoins, pour la majorité des pays, le nombre de voyages aériens est bien supérieur au nombre de touristes : il y a au moins deux fois plus de voyages en avion que de visiteurs annuels du pays.\n",
    "On en déduit que le tourisme ne concerne finalement qu'une faible part du trafic aérien. L'essentiel de ce domaine est probablement liée au business.\n",
    "\n",
    "Il est donc difficile de tirer des conclusions sur le tourisme à partir de résultats sur les voyages en avion."
   ]
  },
  {
   "cell_type": "markdown",
   "metadata": {},
   "source": [
    "## Tourisme \"local\"\n",
    "\n",
    "Dans le cadre de la crise liée à la pandémie de Covid-19, le secteur du tourisme a été particulièrement affecté par la suppression des trajets internationaux et/ou de longue distance. Pour survivre économiquement, les acteurs de ce secteur ont du compter sur un tourisme plus local, et notamment sur leurs propres compatriotes.\n",
    "\n",
    "En effet, au lieu de voyager à l'étranger, une partie des touristes a choisi de se déplacer moins loin, et souvent sans changer de pays. \n",
    "\n",
    "Ainsi, en temps de crise, le tourisme intranational pourrait devenir la solution la plus efficace - mais tous les pays ne sont pas égaux dans ce domaine."
   ]
  },
  {
   "cell_type": "code",
   "execution_count": null,
   "metadata": {},
   "outputs": [],
   "source": []
  }
 ],
 "metadata": {
  "kernelspec": {
   "display_name": "base",
   "language": "python",
   "name": "python3"
  },
  "language_info": {
   "name": "python",
   "version": "3.9.13"
  }
 },
 "nbformat": 4,
 "nbformat_minor": 2
}
