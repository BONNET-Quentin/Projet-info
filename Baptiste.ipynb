{
 "cells": [
  {
   "cell_type": "code",
   "execution_count": null,
   "metadata": {},
   "outputs": [],
   "source": [
    "import pandas as pd\n",
    "import numpy as np\n",
    "import matplotlib.pyplot as plt\n",
    "\n",
    "# Charger le fichier CSV\n",
    "file_path = '/stats_tourisme.csv'\n",
    "df = pd.read_csv(file_path)"
   ]
  },
  {
   "cell_type": "markdown",
   "metadata": {
    "slideshow": {
     "slide_type": "fragment"
    }
   },
   "source": [
    "# Introduction : Le tourisme dans le monde"
   ]
  },
  {
   "cell_type": "markdown",
   "metadata": {},
   "source": [
    " ##### Depuis la révolution industrielle, le tourisme tel que nous le connaissons prends vie. A l'aide des nouveaux moyens de locomotion (train puis bateaux à vapeur),relier deux destinations devient dès lors envisagable. Voyager apparaît dès lors comme un luxe, réservé à une élite. Le tourisme prend son essor durant la deuxième moitiée du XXe siècle avec l'avenement de l'aviation commercial. Cette introduction se base sur le toursime en 2019."
   ]
  },
  {
   "cell_type": "markdown",
   "metadata": {},
   "source": [
    "### Pour débuter, regardons les pays envoyant le plus de touristes à l'étranger. On se limite aux 7 premiers pays. On s'attend à retrouver des pays peuplés, et riches."
   ]
  },
  {
   "cell_type": "code",
   "execution_count": null,
   "metadata": {},
   "outputs": [],
   "source": [
    "# Filtrer les lignes où le nombre de touristes annuels est non nul et non NaN, puis trier par ordre décroissant\n",
    "top_countries = df[['Pays', 'Touristes annuels']].dropna()\n",
    "top_countries = top_countries.sort_values(by='Touristes annuels', ascending=False).head(7)\n",
    "\n",
    "# Tracer le bar chart\n",
    "plt.figure(figsize=(10, 6))\n",
    "plt.bar(top_countries['Pays'], top_countries['Touristes annuels'], color='skyblue')\n",
    "plt.xlabel('Pays')\n",
    "plt.ylabel('Nombre de touristes voyageant')\n",
    "plt.title('Top 7 des pays où les gens voyagent le plus')\n",
    "plt.xticks(rotation=45)\n",
    "plt.tight_layout()\n",
    "\n",
    "# Afficher le graphique\n",
    "plt.show()"
   ]
  },
  {
   "cell_type": "markdown",
   "metadata": {},
   "source": [
    "##### Maintenant, on va regarder l'influence du PIB / habitant sur le tourisme au départ. En effet, nous avons vu en introduction que le tourisme (le fait de partir en voyage) était réservé aux plus aisés, est-ce toujours le cas ? On se limite à un bar-chart avec les 7 pays avec le plus de touristes au départ et ceux avec le moins de tourisme au départ."
   ]
  },
  {
   "cell_type": "code",
   "execution_count": null,
   "metadata": {},
   "outputs": [],
   "source": [
    "# Trier les données pour les 7 premières et 7 dernières valeurs\n",
    "top_departures = filtered_df.sort_values(by='Nombre de départs à l\\'étranger par an pour 1000 habitants', ascending=False).head(7)\n",
    "bottom_departures = filtered_df.sort_values(by='Nombre de départs à l\\'étranger par an pour 1000 habitants', ascending=True).head(7)\n",
    "\n",
    "# Configuration de la figure\n",
    "fig, axs = plt.subplots(2, 1, figsize=(10, 12))\n",
    "\n",
    "# Graphique des 7 pays avec le plus grand nombre de départs\n",
    "axs[0].bar(top_departures['Pays'], top_departures['Nombre de départs à l\\'étranger par an pour 1000 habitants'], color='coral')\n",
    "axs[0].set_title(\"Top 7 des pays par Nombre de départs à l'étranger par an pour 1000 habitants\")\n",
    "axs[0].set_xlabel('Pays')\n",
    "axs[0].set_ylabel(\"Nombre de départs à l'étranger par an pour 1000 habitants\")\n",
    "axs[0].tick_params(axis='x', rotation=45)\n",
    "\n",
    "# Annoter chaque barre avec le PIB / habitant\n",
    "for i, (pib, departure) in enumerate(zip(top_departures['PIB / habitant'], top_departures['Nombre de départs à l\\'étranger par an pour 1000 habitants'])):\n",
    "    axs[0].text(i, departure + 10, f'{pib:,.0f} $US', ha='center', fontsize=10, color='darkblue')\n",
    "\n",
    "# Graphique des 7 pays avec le plus faible nombre de départs\n",
    "axs[1].bar(bottom_departures['Pays'], bottom_departures['Nombre de départs à l\\'étranger par an pour 1000 habitants'], color='lightblue')\n",
    "axs[1].set_title(\"Top 7 des pays avec le plus faible Nombre de départs à l'étranger pour 1000 habitants\")\n",
    "axs[1].set_xlabel('Pays')\n",
    "axs[1].set_ylabel(\"Nombre de départs à l'étranger par an pour 1000 habitants\")\n",
    "axs[1].tick_params(axis='x', rotation=45)\n",
    "\n",
    "# Annoter chaque barre avec le PIB / habitant\n",
    "for i, (pib, departure) in enumerate(zip(bottom_departures['PIB / habitant'], bottom_departures['Nombre de départs à l\\'étranger par an pour 1000 habitants'])):\n",
    "    axs[1].text(i, departure + 10, f'{pib:,.0f} $US', ha='center', fontsize=10, color='darkblue')\n",
    "\n",
    "plt.tight_layout()\n",
    "plt.show()"
   ]
  },
  {
   "cell_type": "markdown",
   "metadata": {},
   "source": [
    "##### En conclusion, les observations faites lors de la fin de la révolution industrielle sont toujours avérées : il faut être riche pour voyager."
   ]
  },
  {
   "cell_type": "markdown",
   "metadata": {},
   "source": [
    "### Maintenant, "
   ]
  },
  {
   "cell_type": "markdown",
   "metadata": {},
   "source": []
  }
 ],
 "metadata": {
  "language_info": {
   "name": "python"
  }
 },
 "nbformat": 4,
 "nbformat_minor": 2
}
